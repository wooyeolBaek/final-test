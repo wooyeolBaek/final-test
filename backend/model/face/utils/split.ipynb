{
 "cells": [
  {
   "cell_type": "code",
   "execution_count": 33,
   "metadata": {},
   "outputs": [],
   "source": [
    "import os, shutil\n",
    "from sklearn.model_selection import GroupKFold\n",
    "from collections import Counter"
   ]
  },
  {
   "cell_type": "code",
   "execution_count": null,
   "metadata": {},
   "outputs": [],
   "source": [
    "for emo in ['anxiety', 'happy', 'hurt', 'neutral', 'sad', 'surprise']:\n",
    "    \n",
    "    train_dir = os.path.join('data','train', emo)\n",
    "    valid_dir = os.path.join('data','valid', emo)\n",
    "    ori = os.listdir(train_dir)\n",
    "    per = []\n",
    "\n",
    "    for i in ori:\n",
    "        per.append(i.split('_')[0])\n",
    "\n",
    "    folds = GroupKFold(n_splits=5).split(ori, groups = per)\n",
    "\n",
    "    for fold in folds:\n",
    "        train_idx = fold[0]\n",
    "        valid_idx = fold[1]\n",
    "        for val in valid_idx:\n",
    "            shutil.move(os.path.join(train_dir, ori[val]), os.path.join(valid_dir, ori[val]))\n",
    "        break"
   ]
  }
 ],
 "metadata": {
  "kernelspec": {
   "display_name": "mhchoimmseg",
   "language": "python",
   "name": "python3"
  },
  "language_info": {
   "codemirror_mode": {
    "name": "ipython",
    "version": 3
   },
   "file_extension": ".py",
   "mimetype": "text/x-python",
   "name": "python",
   "nbconvert_exporter": "python",
   "pygments_lexer": "ipython3",
   "version": "3.8.5 (default, Sep  4 2020, 07:30:14) \n[GCC 7.3.0]"
  },
  "orig_nbformat": 4,
  "vscode": {
   "interpreter": {
    "hash": "70ad9b5ba9a8cc87ed38c21fe5cd6429180f490f0b0df458fd355c792dae8675"
   }
  }
 },
 "nbformat": 4,
 "nbformat_minor": 2
}
